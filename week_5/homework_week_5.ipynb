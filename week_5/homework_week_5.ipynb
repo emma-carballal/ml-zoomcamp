{
 "cells": [
  {
   "cell_type": "markdown",
   "id": "88308d4b",
   "metadata": {},
   "source": [
    "# Homework Week 5"
   ]
  },
  {
   "cell_type": "markdown",
   "id": "b4f82347",
   "metadata": {},
   "source": [
    "## Question 1"
   ]
  },
  {
   "cell_type": "markdown",
   "id": "1a3e108a",
   "metadata": {},
   "source": [
    "**What's the version of pipenv you installed?**"
   ]
  },
  {
   "cell_type": "markdown",
   "id": "da97e362",
   "metadata": {},
   "source": [
    "pipenv, version 2022.10.10"
   ]
  },
  {
   "cell_type": "markdown",
   "id": "73747bae",
   "metadata": {},
   "source": [
    "## Question 2"
   ]
  },
  {
   "cell_type": "markdown",
   "id": "777b0fa9",
   "metadata": {},
   "source": [
    "**What's the first hash for scikit-learn you get in Pipfile.lock?**"
   ]
  },
  {
   "cell_type": "markdown",
   "id": "468c423a",
   "metadata": {},
   "source": [
    "\"sha256:08ef968f6b72033c16c479c966bf37ccd49b06ea91b765e1cc27afefe723920b\""
   ]
  },
  {
   "cell_type": "markdown",
   "id": "8b0e000a",
   "metadata": {},
   "source": [
    "## Question 3"
   ]
  },
  {
   "cell_type": "markdown",
   "id": "f7987eaa",
   "metadata": {},
   "source": [
    "**Write a script for loading these models with pickle and score this client:**\n"
   ]
  },
  {
   "cell_type": "code",
   "execution_count": 41,
   "id": "f1e56ee6",
   "metadata": {},
   "outputs": [],
   "source": [
    "import pickle"
   ]
  },
  {
   "cell_type": "code",
   "execution_count": 42,
   "id": "258fbcb4",
   "metadata": {},
   "outputs": [],
   "source": [
    "dv_file = 'dv.bin'\n",
    "model_file = 'model1.bin'\n",
    "\n",
    "with open(dv_file, 'rb') as dv_in:\n",
    "    dv = pickle.load(dv_in)\n",
    "\n",
    "with open(model_file, 'rb') as model_in:\n",
    "    model = pickle.load(model_in)"
   ]
  },
  {
   "cell_type": "code",
   "execution_count": 43,
   "id": "11f717f3",
   "metadata": {},
   "outputs": [],
   "source": [
    "def predict(client):\n",
    "    X = dv.transform(client)\n",
    "    y_pred = model.predict_proba(X)[0,1]\n",
    "    owner = y_pred >= 0.5\n",
    "\n",
    "    result = {\n",
    "        'ownership_probability': float(y_pred),\n",
    "        'owner': bool(owner)\n",
    "    }\n",
    "\n",
    "    return result"
   ]
  },
  {
   "cell_type": "code",
   "execution_count": 44,
   "id": "04f53466",
   "metadata": {},
   "outputs": [],
   "source": [
    "client = {\"reports\": 0, \"share\": 0.001694, \"expenditure\": 0.12, \"owner\": \"yes\"}"
   ]
  },
  {
   "cell_type": "code",
   "execution_count": 45,
   "id": "f65b0a84",
   "metadata": {},
   "outputs": [],
   "source": [
    "prediction = predict(client)"
   ]
  },
  {
   "cell_type": "code",
   "execution_count": 46,
   "id": "7486e690",
   "metadata": {},
   "outputs": [
    {
     "data": {
      "text/plain": [
       "{'ownership_probability': 0.16213414434326598, 'owner': False}"
      ]
     },
     "execution_count": 46,
     "metadata": {},
     "output_type": "execute_result"
    }
   ],
   "source": [
    "prediction"
   ]
  },
  {
   "cell_type": "markdown",
   "id": "74fc3b69",
   "metadata": {},
   "source": [
    "## Question 4"
   ]
  },
  {
   "cell_type": "markdown",
   "id": "43aa1693",
   "metadata": {},
   "source": [
    "**What's the probability that this client will get a credit card?**"
   ]
  },
  {
   "cell_type": "code",
   "execution_count": 49,
   "id": "3075278b",
   "metadata": {},
   "outputs": [],
   "source": [
    "url = 'http://localhost:9696/predict'\n",
    "client = {\"reports\": 0, \"share\": 0.245, \"expenditure\": 3.438, \"owner\": \"yes\"}\n",
    "response = requests.post(url, json=client).json()"
   ]
  },
  {
   "cell_type": "code",
   "execution_count": 50,
   "id": "85626d22",
   "metadata": {},
   "outputs": [
    {
     "data": {
      "text/plain": [
       "{'owner': True, 'ownership_probability': 0.9282218018527452}"
      ]
     },
     "execution_count": 50,
     "metadata": {},
     "output_type": "execute_result"
    }
   ],
   "source": [
    "response"
   ]
  },
  {
   "cell_type": "markdown",
   "id": "78b1cba3",
   "metadata": {},
   "source": [
    "## Question 5"
   ]
  },
  {
   "cell_type": "markdown",
   "id": "3d5ffa10",
   "metadata": {},
   "source": [
    "Download the base image svizor/zoomcamp-model:3.9.12-slim.\n",
    "So what's the size of this base image?"
   ]
  },
  {
   "cell_type": "markdown",
   "id": "c8675fb7",
   "metadata": {},
   "source": [
    "125 MB"
   ]
  },
  {
   "cell_type": "markdown",
   "id": "137af7eb",
   "metadata": {},
   "source": [
    "## Question 6"
   ]
  },
  {
   "cell_type": "markdown",
   "id": "8e8f07b9",
   "metadata": {},
   "source": [
    "Let's run your docker container!\n",
    "What's the probability that this client will get a credit card now?"
   ]
  },
  {
   "cell_type": "code",
   "execution_count": 59,
   "id": "5f434108",
   "metadata": {},
   "outputs": [],
   "source": [
    "url = 'http://localhost:9696/predict'\n",
    "client = {\"reports\": 0, \"share\": 0.245, \"expenditure\": 3.438, \"owner\": \"yes\"}\n",
    "response = requests.post(url, json=client).json()"
   ]
  },
  {
   "cell_type": "code",
   "execution_count": 60,
   "id": "cffd9aa9",
   "metadata": {},
   "outputs": [
    {
     "data": {
      "text/plain": [
       "{'owner': True, 'ownership_probability': 0.7692649226628628}"
      ]
     },
     "execution_count": 60,
     "metadata": {},
     "output_type": "execute_result"
    }
   ],
   "source": [
    "response"
   ]
  },
  {
   "cell_type": "code",
   "execution_count": null,
   "id": "e4c8db65",
   "metadata": {},
   "outputs": [],
   "source": []
  }
 ],
 "metadata": {
  "kernelspec": {
   "display_name": "Python 3 (ipykernel)",
   "language": "python",
   "name": "python3"
  },
  "language_info": {
   "codemirror_mode": {
    "name": "ipython",
    "version": 3
   },
   "file_extension": ".py",
   "mimetype": "text/x-python",
   "name": "python",
   "nbconvert_exporter": "python",
   "pygments_lexer": "ipython3",
   "version": "3.8.12"
  },
  "toc": {
   "base_numbering": 1,
   "nav_menu": {},
   "number_sections": true,
   "sideBar": true,
   "skip_h1_title": false,
   "title_cell": "Table of Contents",
   "title_sidebar": "Contents",
   "toc_cell": false,
   "toc_position": {},
   "toc_section_display": true,
   "toc_window_display": false
  }
 },
 "nbformat": 4,
 "nbformat_minor": 5
}
