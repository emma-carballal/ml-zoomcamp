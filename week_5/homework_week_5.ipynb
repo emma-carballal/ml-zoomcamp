{
 "cells": [
  {
   "cell_type": "markdown",
   "id": "88308d4b",
   "metadata": {},
   "source": [
    "# Homework Week 5"
   ]
  },
  {
   "cell_type": "markdown",
   "id": "b4f82347",
   "metadata": {},
   "source": [
    "## Question 1"
   ]
  },
  {
   "cell_type": "markdown",
   "id": "1a3e108a",
   "metadata": {},
   "source": [
    "**What's the version of pipenv you installed?**"
   ]
  },
  {
   "cell_type": "markdown",
   "id": "da97e362",
   "metadata": {},
   "source": [
    "pipenv, version 2022.10.4"
   ]
  },
  {
   "cell_type": "markdown",
   "id": "73747bae",
   "metadata": {},
   "source": [
    "## Question 2"
   ]
  },
  {
   "cell_type": "markdown",
   "id": "777b0fa9",
   "metadata": {},
   "source": [
    "**What's the first hash for scikit-learn you get in Pipfile.lock?**"
   ]
  },
  {
   "cell_type": "markdown",
   "id": "468c423a",
   "metadata": {},
   "source": [
    "\"sha256:08ef968f6b72033c16c479c966bf37ccd49b06ea91b765e1cc27afefe723920b\""
   ]
  },
  {
   "cell_type": "markdown",
   "id": "8b0e000a",
   "metadata": {},
   "source": [
    "## Question 3"
   ]
  },
  {
   "cell_type": "markdown",
   "id": "f7987eaa",
   "metadata": {},
   "source": [
    "**Write a script for loading these models with pickle and score this client:**\n"
   ]
  },
  {
   "cell_type": "code",
   "execution_count": 5,
   "id": "258fbcb4",
   "metadata": {},
   "outputs": [],
   "source": [
    "import requests"
   ]
  },
  {
   "cell_type": "code",
   "execution_count": 6,
   "id": "566e3183",
   "metadata": {},
   "outputs": [],
   "source": [
    "url = 'http://localhost:9696/predict'"
   ]
  },
  {
   "cell_type": "code",
   "execution_count": 7,
   "id": "970fc47f",
   "metadata": {},
   "outputs": [],
   "source": [
    "customer = {\"reports\": 0, \"share\": 0.001694, \"expenditure\": 0.12, \"owner\": \"yes\"}"
   ]
  },
  {
   "cell_type": "code",
   "execution_count": 9,
   "id": "067722c4",
   "metadata": {},
   "outputs": [],
   "source": [
    "response = requests.post(url, json=customer).json()"
   ]
  },
  {
   "cell_type": "code",
   "execution_count": 10,
   "id": "5090633d",
   "metadata": {},
   "outputs": [
    {
     "data": {
      "text/plain": [
       "{'owner': False, 'ownership_probability': 0.16213414434326598}"
      ]
     },
     "execution_count": 10,
     "metadata": {},
     "output_type": "execute_result"
    }
   ],
   "source": [
    "response"
   ]
  },
  {
   "cell_type": "code",
   "execution_count": null,
   "id": "21a49d78",
   "metadata": {},
   "outputs": [],
   "source": []
  }
 ],
 "metadata": {
  "kernelspec": {
   "display_name": "Python 3 (ipykernel)",
   "language": "python",
   "name": "python3"
  },
  "language_info": {
   "codemirror_mode": {
    "name": "ipython",
    "version": 3
   },
   "file_extension": ".py",
   "mimetype": "text/x-python",
   "name": "python",
   "nbconvert_exporter": "python",
   "pygments_lexer": "ipython3",
   "version": "3.8.12"
  },
  "toc": {
   "base_numbering": 1,
   "nav_menu": {},
   "number_sections": true,
   "sideBar": true,
   "skip_h1_title": false,
   "title_cell": "Table of Contents",
   "title_sidebar": "Contents",
   "toc_cell": false,
   "toc_position": {},
   "toc_section_display": true,
   "toc_window_display": false
  }
 },
 "nbformat": 4,
 "nbformat_minor": 5
}
