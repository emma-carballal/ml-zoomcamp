{
 "cells": [
  {
   "cell_type": "markdown",
   "id": "8e289850",
   "metadata": {},
   "source": [
    "# Homework Week 8\n",
    "## Neural Networks and Deep Learning : Dino or Dragon?"
   ]
  },
  {
   "cell_type": "markdown",
   "id": "4fe89cc7",
   "metadata": {},
   "source": [
    "### Downloading the image dataset of dinos and dragons."
   ]
  },
  {
   "cell_type": "code",
   "execution_count": 1,
   "id": "e754d1aa",
   "metadata": {},
   "outputs": [],
   "source": [
    "# !wget https://github.com/alexeygrigorev/dino-or-dragon/releases/download/data/dino-dragon.zip\n",
    "# !unzip dino-dragon.zip"
   ]
  },
  {
   "cell_type": "code",
   "execution_count": 2,
   "id": "bc25dc27",
   "metadata": {},
   "outputs": [
    {
     "name": "stdout",
     "output_type": "stream",
     "text": [
      "Found 1594 images belonging to 2 classes.\n"
     ]
    }
   ],
   "source": [
    "import tensorflow as tf\n",
    "from tensorflow.keras.preprocessing.image import ImageDataGenerator\n",
    "\n",
    "train_generator = ImageDataGenerator(rescale=1./255)\n",
    "\n",
    "train_ds = train_generator.flow_from_directory(\n",
    "    './train',\n",
    "    target_size=(150, 150),\n",
    "    batch_size=20,\n",
    "    class_mode='binary',\n",
    "    shuffle=True\n",
    ")"
   ]
  },
  {
   "cell_type": "code",
   "execution_count": 3,
   "id": "9961d305",
   "metadata": {},
   "outputs": [
    {
     "data": {
      "text/plain": [
       "{'dino': 0, 'dragon': 1}"
      ]
     },
     "execution_count": 3,
     "metadata": {},
     "output_type": "execute_result"
    }
   ],
   "source": [
    "train_ds.class_indices"
   ]
  },
  {
   "cell_type": "code",
   "execution_count": 5,
   "id": "19e1db1f",
   "metadata": {},
   "outputs": [
    {
     "name": "stdout",
     "output_type": "stream",
     "text": [
      "Found 394 images belonging to 2 classes.\n"
     ]
    }
   ],
   "source": [
    "test_generator = ImageDataGenerator(rescale=1./255)\n",
    "\n",
    "test_ds = test_generator.flow_from_directory(\n",
    "    './test',\n",
    "    target_size=(150, 150),\n",
    "    batch_size=20,\n",
    "    class_mode='binary',\n",
    "    shuffle=True\n",
    ")"
   ]
  },
  {
   "cell_type": "markdown",
   "id": "d760f10a",
   "metadata": {},
   "source": [
    "### Creating a base model for the CNN"
   ]
  },
  {
   "cell_type": "code",
   "execution_count": 6,
   "id": "8ef4f945",
   "metadata": {},
   "outputs": [],
   "source": [
    "from tensorflow import keras\n",
    "from tensorflow.keras import layers, models\n",
    "from tensorflow.keras.optimizers import SGD\n",
    "import matplotlib.pyplot as plt\n",
    "\n",
    "%matplotlib inline"
   ]
  },
  {
   "cell_type": "code",
   "execution_count": 7,
   "id": "ea7bab13",
   "metadata": {},
   "outputs": [],
   "source": [
    "# model = models.Sequential()\n",
    "# model.add(layers.Conv2D(32, (3, 3), activation='relu', input_shape=(150, 150, 3)))\n",
    "# model.add(layers.MaxPooling2D((2, 2)))\n",
    "# model.add(layers.Flatten())\n",
    "# model.add(layers.Dense(64, activation='relu'))\n",
    "# model.add(layers.Dense(1, activation='sigmoid'))\n",
    "\n",
    "\n",
    "# model.compile(optimizer=keras.optimizers.SGD(lr=0.002, momentum=0.8),\n",
    "#               loss=keras.losses.BinaryCrossentropy(),\n",
    "#               metrics=['accuracy'])\n",
    "# model.summary()\n",
    "# history = model.fit(\n",
    "#     train_ds,\n",
    "#     epochs=10,\n",
    "#     validation_data=test_ds\n",
    "# )"
   ]
  },
  {
   "cell_type": "markdown",
   "id": "8acc2d4a",
   "metadata": {},
   "source": [
    "### Question 1\n",
    "Since we have a binary classification problem, what is the best loss function for us?\n",
    "\n",
    "``binary crossentropy``"
   ]
  },
  {
   "cell_type": "markdown",
   "id": "af6e1e92",
   "metadata": {},
   "source": [
    "### Question 2\n",
    "What's the total number of parameters of the model?"
   ]
  },
  {
   "cell_type": "code",
   "execution_count": 8,
   "id": "742b527b",
   "metadata": {},
   "outputs": [
    {
     "name": "stdout",
     "output_type": "stream",
     "text": [
      "Model: \"model\"\n",
      "_________________________________________________________________\n"
     ]
    },
    {
     "name": "stderr",
     "output_type": "stream",
     "text": [
      "2022-11-22 00:45:21.637485: I tensorflow/core/platform/cpu_feature_guard.cc:193] This TensorFlow binary is optimized with oneAPI Deep Neural Network Library (oneDNN) to use the following CPU instructions in performance-critical operations:  AVX2 FMA\n",
      "To enable them in other operations, rebuild TensorFlow with the appropriate compiler flags.\n",
      "/Users/nineve/.pyenv/versions/3.8.12/envs/lewagon/lib/python3.8/site-packages/keras/optimizers/optimizer_v2/gradient_descent.py:108: UserWarning: The `lr` argument is deprecated, use `learning_rate` instead.\n",
      "  super(SGD, self).__init__(name, **kwargs)\n"
     ]
    },
    {
     "name": "stdout",
     "output_type": "stream",
     "text": [
      " Layer (type)                Output Shape              Param #   \n",
      "=================================================================\n",
      " input_1 (InputLayer)        [(None, 150, 150, 3)]     0         \n",
      "                                                                 \n",
      " sequential (Sequential)     multiple                  0         \n",
      "                                                                 \n",
      " conv2d (Conv2D)             (None, 148, 148, 32)      896       \n",
      "                                                                 \n",
      " max_pooling2d (MaxPooling2D  (None, 74, 74, 32)       0         \n",
      " )                                                               \n",
      "                                                                 \n",
      " flatten (Flatten)           (None, 175232)            0         \n",
      "                                                                 \n",
      " dense (Dense)               (None, 64)                11214912  \n",
      "                                                                 \n",
      " dense_1 (Dense)             (None, 1)                 65        \n",
      "                                                                 \n",
      "=================================================================\n",
      "Total params: 11,215,873\n",
      "Trainable params: 11,215,873\n",
      "Non-trainable params: 0\n",
      "_________________________________________________________________\n"
     ]
    }
   ],
   "source": [
    "model = models.Sequential()\n",
    "inputs = keras.Input(shape=(150, 150, 3))\n",
    "base = model(inputs)\n",
    "vectors = keras.layers.Conv2D(32, (3, 3), activation='relu')(base)\n",
    "pooling = keras.layers.MaxPooling2D((2, 2))(vectors)\n",
    "flatten = keras.layers.Flatten()(pooling)\n",
    "inner = keras.layers.Dense(64, activation='relu')(flatten)\n",
    "outputs = keras.layers.Dense(1, activation='sigmoid')(inner)\n",
    "\n",
    "optimizer = keras.optimizers.SGD(lr=0.002, momentum=0.8)\n",
    "loss = keras.losses.BinaryCrossentropy()\n",
    "    \n",
    "model = keras.Model(inputs, outputs)\n",
    "\n",
    "model.compile(\n",
    "        optimizer=optimizer,\n",
    "        loss=loss,\n",
    "        metrics=['accuracy']\n",
    "    )\n",
    "\n",
    "model.summary()"
   ]
  },
  {
   "cell_type": "markdown",
   "id": "e59e4617",
   "metadata": {},
   "source": [
    "### Question 3\n",
    "What is the median of training accuracy for all the epochs for this model?"
   ]
  },
  {
   "cell_type": "code",
   "execution_count": 9,
   "id": "96a9514e",
   "metadata": {},
   "outputs": [
    {
     "name": "stdout",
     "output_type": "stream",
     "text": [
      "Epoch 1/10\n",
      "80/80 [==============================] - 23s 275ms/step - loss: 0.6185 - accuracy: 0.6292 - val_loss: 0.5314 - val_accuracy: 0.7386\n",
      "Epoch 2/10\n",
      "80/80 [==============================] - 23s 292ms/step - loss: 0.4974 - accuracy: 0.7616 - val_loss: 0.4372 - val_accuracy: 0.8274\n",
      "Epoch 3/10\n",
      "80/80 [==============================] - 23s 289ms/step - loss: 0.4138 - accuracy: 0.8143 - val_loss: 0.3858 - val_accuracy: 0.8426\n",
      "Epoch 4/10\n",
      "80/80 [==============================] - 20s 250ms/step - loss: 0.3741 - accuracy: 0.8400 - val_loss: 0.4339 - val_accuracy: 0.7919\n",
      "Epoch 5/10\n",
      "80/80 [==============================] - 20s 248ms/step - loss: 0.3301 - accuracy: 0.8708 - val_loss: 0.3511 - val_accuracy: 0.8579\n",
      "Epoch 6/10\n",
      "80/80 [==============================] - 19s 242ms/step - loss: 0.3074 - accuracy: 0.8802 - val_loss: 0.3291 - val_accuracy: 0.8503\n",
      "Epoch 7/10\n",
      "80/80 [==============================] - 19s 238ms/step - loss: 0.2680 - accuracy: 0.8996 - val_loss: 0.3301 - val_accuracy: 0.8503\n",
      "Epoch 8/10\n",
      "80/80 [==============================] - 19s 238ms/step - loss: 0.2333 - accuracy: 0.9153 - val_loss: 0.3693 - val_accuracy: 0.8350\n",
      "Epoch 9/10\n",
      "80/80 [==============================] - 19s 238ms/step - loss: 0.2196 - accuracy: 0.9166 - val_loss: 0.3014 - val_accuracy: 0.8680\n",
      "Epoch 10/10\n",
      "80/80 [==============================] - 19s 242ms/step - loss: 0.1904 - accuracy: 0.9379 - val_loss: 0.3154 - val_accuracy: 0.8706\n"
     ]
    }
   ],
   "source": [
    "history = model.fit(train_ds, epochs=10, validation_data=test_ds)"
   ]
  },
  {
   "cell_type": "code",
   "execution_count": 10,
   "id": "698fb0dd",
   "metadata": {},
   "outputs": [
    {
     "data": {
      "text/plain": [
       "0.8754705190658569"
      ]
     },
     "execution_count": 10,
     "metadata": {},
     "output_type": "execute_result"
    }
   ],
   "source": [
    "import numpy as np\n",
    "np.median(history.history['accuracy'])"
   ]
  },
  {
   "cell_type": "markdown",
   "id": "99dd4497",
   "metadata": {},
   "source": [
    "### Question 4\n",
    "What is the standard deviation of training loss for all the epochs for this model?"
   ]
  },
  {
   "cell_type": "code",
   "execution_count": 11,
   "id": "03ccd408",
   "metadata": {},
   "outputs": [
    {
     "data": {
      "text/plain": [
       "0.12779002869173225"
      ]
     },
     "execution_count": 11,
     "metadata": {},
     "output_type": "execute_result"
    }
   ],
   "source": [
    "np.std(history.history['loss'])"
   ]
  },
  {
   "cell_type": "markdown",
   "id": "369c8884",
   "metadata": {},
   "source": [
    "## Data Augmentation"
   ]
  },
  {
   "cell_type": "code",
   "execution_count": 12,
   "id": "b71925db",
   "metadata": {},
   "outputs": [
    {
     "name": "stdout",
     "output_type": "stream",
     "text": [
      "Found 1594 images belonging to 2 classes.\n"
     ]
    }
   ],
   "source": [
    "import tensorflow as tf\n",
    "from tensorflow.keras.preprocessing.image import ImageDataGenerator\n",
    "\n",
    "train_generator = ImageDataGenerator(rescale=1./255,\n",
    "                                    rotation_range=40,\n",
    "                                    width_shift_range=0.2,\n",
    "                                    height_shift_range=0.2,\n",
    "                                    shear_range=0.2,\n",
    "                                    zoom_range=0.2,\n",
    "                                    horizontal_flip=True,\n",
    "                                    fill_mode='nearest'\n",
    ")\n",
    "\n",
    "train_ds = train_generator.flow_from_directory(\n",
    "    './train',\n",
    "    target_size=(150, 150),\n",
    "    batch_size=20,\n",
    "    class_mode='binary',\n",
    "    shuffle=True,\n",
    ")"
   ]
  },
  {
   "cell_type": "code",
   "execution_count": 13,
   "id": "8d4e84a8",
   "metadata": {},
   "outputs": [
    {
     "name": "stdout",
     "output_type": "stream",
     "text": [
      "Found 394 images belonging to 2 classes.\n"
     ]
    }
   ],
   "source": [
    "test_ds = train_generator.flow_from_directory(\n",
    "    './test',\n",
    "    target_size=(150, 150),\n",
    "    batch_size=20,\n",
    "    class_mode='binary',\n",
    "    shuffle=True\n",
    ")"
   ]
  },
  {
   "cell_type": "code",
   "execution_count": 14,
   "id": "c56d6ae2",
   "metadata": {},
   "outputs": [
    {
     "name": "stdout",
     "output_type": "stream",
     "text": [
      "Epoch 1/10\n",
      "80/80 [==============================] - 29s 356ms/step - loss: 0.4635 - accuracy: 0.7823 - val_loss: 0.3842 - val_accuracy: 0.8426\n",
      "Epoch 2/10\n",
      "80/80 [==============================] - 28s 355ms/step - loss: 0.4304 - accuracy: 0.8099 - val_loss: 0.3934 - val_accuracy: 0.8325\n",
      "Epoch 3/10\n",
      "80/80 [==============================] - 28s 352ms/step - loss: 0.4216 - accuracy: 0.8080 - val_loss: 0.3750 - val_accuracy: 0.8452\n",
      "Epoch 4/10\n",
      "80/80 [==============================] - 29s 360ms/step - loss: 0.4069 - accuracy: 0.8199 - val_loss: 0.3527 - val_accuracy: 0.8477\n",
      "Epoch 5/10\n",
      "80/80 [==============================] - 28s 344ms/step - loss: 0.3793 - accuracy: 0.8312 - val_loss: 0.4144 - val_accuracy: 0.8122\n",
      "Epoch 6/10\n",
      "80/80 [==============================] - 27s 343ms/step - loss: 0.3905 - accuracy: 0.8306 - val_loss: 0.4742 - val_accuracy: 0.7614\n",
      "Epoch 7/10\n",
      "80/80 [==============================] - 27s 337ms/step - loss: 0.3831 - accuracy: 0.8243 - val_loss: 0.3927 - val_accuracy: 0.8325\n",
      "Epoch 8/10\n",
      "80/80 [==============================] - 28s 344ms/step - loss: 0.3803 - accuracy: 0.8306 - val_loss: 0.3614 - val_accuracy: 0.8503\n",
      "Epoch 9/10\n",
      "80/80 [==============================] - 27s 340ms/step - loss: 0.3545 - accuracy: 0.8419 - val_loss: 0.3507 - val_accuracy: 0.8503\n",
      "Epoch 10/10\n",
      "80/80 [==============================] - 31s 389ms/step - loss: 0.3668 - accuracy: 0.8369 - val_loss: 0.4011 - val_accuracy: 0.8071\n"
     ]
    }
   ],
   "source": [
    "history = model.fit(train_ds, epochs=10, validation_data=test_ds)"
   ]
  },
  {
   "cell_type": "markdown",
   "id": "48910ffd",
   "metadata": {},
   "source": [
    "### Question 5\n",
    "What is the mean of test loss for all the epochs for the model trained with augmentations?"
   ]
  },
  {
   "cell_type": "code",
   "execution_count": 15,
   "id": "140c6f43",
   "metadata": {},
   "outputs": [
    {
     "data": {
      "text/plain": [
       "0.38997604250907897"
      ]
     },
     "execution_count": 15,
     "metadata": {},
     "output_type": "execute_result"
    }
   ],
   "source": [
    "np.mean(history.history['val_loss'])"
   ]
  },
  {
   "cell_type": "markdown",
   "id": "e6683b73",
   "metadata": {},
   "source": [
    "### Question 6\n",
    "What's the average of test accuracy for the last 5 epochs (from 6 to 10) for the model trained with augmentations?"
   ]
  },
  {
   "cell_type": "code",
   "execution_count": 16,
   "id": "23e098ec",
   "metadata": {},
   "outputs": [
    {
     "data": {
      "text/plain": [
       "0.8203045725822449"
      ]
     },
     "execution_count": 16,
     "metadata": {},
     "output_type": "execute_result"
    }
   ],
   "source": [
    "np.mean(history.history['val_accuracy'][5:])"
   ]
  },
  {
   "cell_type": "code",
   "execution_count": null,
   "id": "35da05f5",
   "metadata": {},
   "outputs": [],
   "source": []
  }
 ],
 "metadata": {
  "kernelspec": {
   "display_name": "Python 3 (ipykernel)",
   "language": "python",
   "name": "python3"
  },
  "language_info": {
   "codemirror_mode": {
    "name": "ipython",
    "version": 3
   },
   "file_extension": ".py",
   "mimetype": "text/x-python",
   "name": "python",
   "nbconvert_exporter": "python",
   "pygments_lexer": "ipython3",
   "version": "3.8.12"
  },
  "toc": {
   "base_numbering": 1,
   "nav_menu": {},
   "number_sections": true,
   "sideBar": true,
   "skip_h1_title": false,
   "title_cell": "Table of Contents",
   "title_sidebar": "Contents",
   "toc_cell": false,
   "toc_position": {},
   "toc_section_display": true,
   "toc_window_display": false
  }
 },
 "nbformat": 4,
 "nbformat_minor": 5
}
