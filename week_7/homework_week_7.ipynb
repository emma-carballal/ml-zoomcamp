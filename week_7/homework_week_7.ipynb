{
 "cells": [
  {
   "cell_type": "markdown",
   "id": "5865ffef",
   "metadata": {},
   "source": [
    "# Homework week 7"
   ]
  },
  {
   "cell_type": "markdown",
   "id": "3bcdd3a1",
   "metadata": {},
   "source": [
    "## Question 1"
   ]
  },
  {
   "cell_type": "markdown",
   "id": "226de7d5",
   "metadata": {},
   "source": [
    "Install BentoML. What's the version of BentoML you installed?"
   ]
  },
  {
   "cell_type": "markdown",
   "id": "84e1efc8",
   "metadata": {},
   "source": [
    "bentoml, version 1.0.7"
   ]
  },
  {
   "cell_type": "markdown",
   "id": "3ad1d378",
   "metadata": {},
   "source": [
    "## Question 2"
   ]
  },
  {
   "cell_type": "markdown",
   "id": "a0ed3fd6",
   "metadata": {},
   "source": [
    "**How big approximately is the saved BentoML model?**"
   ]
  },
  {
   "cell_type": "markdown",
   "id": "80d386a5",
   "metadata": {},
   "source": [
    "716 bytes"
   ]
  },
  {
   "cell_type": "markdown",
   "id": "1426b3bc",
   "metadata": {},
   "source": [
    "## Question 3"
   ]
  },
  {
   "cell_type": "markdown",
   "id": "dfd79c98",
   "metadata": {},
   "source": [
    "What would the pydantic class look like for the following data?"
   ]
  },
  {
   "cell_type": "markdown",
   "id": "67e858c6",
   "metadata": {},
   "source": [
    "```json\n",
    "{\n",
    "  \"name\": \"Tim\",\n",
    "  \"age\": 37,\n",
    "  \"country\": \"US\",\n",
    "  \"rating\": 3.14\n",
    "}\n",
    "````"
   ]
  },
  {
   "cell_type": "code",
   "execution_count": 5,
   "id": "60fca648",
   "metadata": {},
   "outputs": [],
   "source": [
    "from pydantic import BaseModel\n",
    "\n",
    "class UserProfile(BaseModel):\n",
    "    name: str\n",
    "    age: int\n",
    "    country: str\n",
    "    rating: float"
   ]
  },
  {
   "cell_type": "markdown",
   "id": "21b8893a",
   "metadata": {},
   "source": [
    "## Question 4"
   ]
  },
  {
   "cell_type": "markdown",
   "id": "94c6a234",
   "metadata": {},
   "source": [
    "We've prepared a model for you that you can import. What version of scikit-learn was this model trained with?"
   ]
  },
  {
   "cell_type": "markdown",
   "id": "d38e425e",
   "metadata": {},
   "source": [
    "scikit-learn: 1.1.1"
   ]
  },
  {
   "cell_type": "markdown",
   "id": "61c12a8b",
   "metadata": {},
   "source": [
    "## Question 5"
   ]
  },
  {
   "cell_type": "markdown",
   "id": "406e14e8",
   "metadata": {},
   "source": [
    "Create a bento out of this scikit-learn model. The output type for this endpoint should be `NumpyNdarray()`"
   ]
  },
  {
   "cell_type": "markdown",
   "id": "ecfac594",
   "metadata": {},
   "source": [
    "Send this array to the Bento: `[[6.4,3.5,4.5,1.2]]`\n",
    "What value does it return?"
   ]
  },
  {
   "cell_type": "markdown",
   "id": "7fc95ce1",
   "metadata": {},
   "source": [
    "1"
   ]
  },
  {
   "cell_type": "markdown",
   "id": "9de7fd67",
   "metadata": {},
   "source": [
    "## Question 6"
   ]
  },
  {
   "cell_type": "markdown",
   "id": "f2e7d1b7",
   "metadata": {},
   "source": [
    "Configure 100 users with ramp time of 10 users per second. Click \"Start Swarming\" and ensure that it is working.\n",
    "\n",
    "Now download a second model. Update your bento's runner tag and test with both models. Which model allows more traffic (more throughput) as you ramp up the traffic?"
   ]
  },
  {
   "cell_type": "markdown",
   "id": "7aa87bbf",
   "metadata": {},
   "source": [
    "**First model is better.**"
   ]
  },
  {
   "cell_type": "markdown",
   "id": "05a7acec",
   "metadata": {},
   "source": [
    "## Question 7"
   ]
  },
  {
   "cell_type": "code",
   "execution_count": null,
   "id": "80f815ee",
   "metadata": {},
   "outputs": [],
   "source": [
    "Server is down."
   ]
  }
 ],
 "metadata": {
  "kernelspec": {
   "display_name": "Python 3 (ipykernel)",
   "language": "python",
   "name": "python3"
  },
  "language_info": {
   "codemirror_mode": {
    "name": "ipython",
    "version": 3
   },
   "file_extension": ".py",
   "mimetype": "text/x-python",
   "name": "python",
   "nbconvert_exporter": "python",
   "pygments_lexer": "ipython3",
   "version": "3.9.13"
  },
  "toc": {
   "base_numbering": 1,
   "nav_menu": {},
   "number_sections": true,
   "sideBar": true,
   "skip_h1_title": false,
   "title_cell": "Table of Contents",
   "title_sidebar": "Contents",
   "toc_cell": false,
   "toc_position": {},
   "toc_section_display": true,
   "toc_window_display": false
  }
 },
 "nbformat": 4,
 "nbformat_minor": 5
}
