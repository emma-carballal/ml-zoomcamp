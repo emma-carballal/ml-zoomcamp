{
 "cells": [
  {
   "cell_type": "code",
   "execution_count": 1,
   "id": "86e16eb7",
   "metadata": {},
   "outputs": [],
   "source": [
    "import pandas as pd\n",
    "import numpy as np"
   ]
  },
  {
   "cell_type": "code",
   "execution_count": 2,
   "id": "230a0a79",
   "metadata": {},
   "outputs": [],
   "source": [
    "df_original = pd.read_csv(\"housing.csv\")"
   ]
  },
  {
   "cell_type": "code",
   "execution_count": 3,
   "id": "c7a022a0",
   "metadata": {},
   "outputs": [],
   "source": [
    "features = ['longitude', 'latitude', 'housing_median_age', 'total_rooms', 'total_bedrooms', 'population', 'households', 'median_income', 'median_house_value', 'ocean_proximity']\n",
    "df = df_original[features]"
   ]
  },
  {
   "cell_type": "code",
   "execution_count": 4,
   "id": "9282f0cb",
   "metadata": {},
   "outputs": [],
   "source": [
    "df = df.fillna(0)"
   ]
  },
  {
   "cell_type": "code",
   "execution_count": 5,
   "id": "58f0e7c2",
   "metadata": {},
   "outputs": [],
   "source": [
    "df['rooms_per_household'] = df.total_rooms / df.households\n",
    "df['bedrooms_per_room'] = df.total_bedrooms / df.total_rooms\n",
    "df['population_per_household'] = df.population / df.households"
   ]
  },
  {
   "cell_type": "code",
   "execution_count": 6,
   "id": "5c99f26e",
   "metadata": {},
   "outputs": [
    {
     "name": "stderr",
     "output_type": "stream",
     "text": [
      "/Users/nineve/.pyenv/versions/3.8.12/envs/lewagon/lib/python3.8/site-packages/scipy/__init__.py:146: UserWarning: A NumPy version >=1.16.5 and <1.23.0 is required for this version of SciPy (detected version 1.23.3\n",
      "  warnings.warn(f\"A NumPy version >={np_minversion} and <{np_maxversion}\"\n"
     ]
    }
   ],
   "source": [
    "from sklearn.model_selection import train_test_split"
   ]
  },
  {
   "cell_type": "code",
   "execution_count": 18,
   "id": "502e417c",
   "metadata": {},
   "outputs": [
    {
     "data": {
      "text/plain": [
       "(16512, 4128)"
      ]
     },
     "execution_count": 18,
     "metadata": {},
     "output_type": "execute_result"
    }
   ],
   "source": [
    "df_full_train, df_test = train_test_split(df, test_size=0.2, random_state=42)\n",
    "len(df_full_train), len(df_test)"
   ]
  },
  {
   "cell_type": "code",
   "execution_count": 19,
   "id": "9e117ccc",
   "metadata": {},
   "outputs": [
    {
     "data": {
      "text/plain": [
       "(12384, 4128, 4128)"
      ]
     },
     "execution_count": 19,
     "metadata": {},
     "output_type": "execute_result"
    }
   ],
   "source": [
    "df_train, df_val = train_test_split(df_full_train, test_size=0.25, random_state=42)\n",
    "len(df_train), len(df_test), len(df_val)"
   ]
  },
  {
   "cell_type": "code",
   "execution_count": 20,
   "id": "74d524b7",
   "metadata": {},
   "outputs": [],
   "source": [
    "df_train = df_train.reset_index(drop=True)\n",
    "df_val = df_train.reset_index(drop=True)\n",
    "df_test = df_train.reset_index(drop=True)"
   ]
  },
  {
   "cell_type": "code",
   "execution_count": 21,
   "id": "4918c5b9",
   "metadata": {},
   "outputs": [],
   "source": [
    "y_train = df_train.median_house_value.values\n",
    "y_val = df_val.median_house_value.values\n",
    "y_test = df_test.median_house_value.values"
   ]
  },
  {
   "cell_type": "code",
   "execution_count": 22,
   "id": "008b1abc",
   "metadata": {},
   "outputs": [],
   "source": [
    "del df_train['median_house_value']\n",
    "del df_val['median_house_value']\n",
    "del df_test['median_house_value']"
   ]
  },
  {
   "cell_type": "code",
   "execution_count": 23,
   "id": "0e912215",
   "metadata": {},
   "outputs": [],
   "source": [
    "from sklearn.feature_extraction import DictVectorizer"
   ]
  },
  {
   "cell_type": "code",
   "execution_count": 24,
   "id": "e018b692",
   "metadata": {},
   "outputs": [],
   "source": [
    "dv = DictVectorizer(sparse=False)"
   ]
  },
  {
   "cell_type": "code",
   "execution_count": 25,
   "id": "0398d7c5",
   "metadata": {},
   "outputs": [],
   "source": [
    "train_dict = df_train.to_dict(orient='records')\n",
    "X_train = dv.fit_transform(train_dict)\n",
    "\n",
    "val_dict = df_val.to_dict(orient='records')\n",
    "X_val = dv.transform(val_dict)"
   ]
  },
  {
   "cell_type": "code",
   "execution_count": 29,
   "id": "923edb96",
   "metadata": {},
   "outputs": [],
   "source": [
    "y_train = (y_train > y_train.mean()).astype(int)\n",
    "y_val = (y_val > y_train.mean()).astype(int)"
   ]
  },
  {
   "cell_type": "code",
   "execution_count": 39,
   "id": "1ec8c733",
   "metadata": {},
   "outputs": [
    {
     "data": {
      "text/plain": [
       "0.39752906976744184"
      ]
     },
     "execution_count": 39,
     "metadata": {},
     "output_type": "execute_result"
    }
   ],
   "source": [
    "from sklearn.linear_model import LogisticRegression\n",
    "model = LogisticRegression(solver=\"liblinear\", C=1.0, max_iter=1000, random_state=42)\n",
    "model.fit(X_train, y_train)\n",
    "y_pred = model.predict_proba(X_val)[:, 1]\n",
    "y_pred_above_average = (y_pred >= 0.5).astype(int)\n",
    "(y_val == y_pred_above_average).mean()"
   ]
  },
  {
   "cell_type": "code",
   "execution_count": 38,
   "id": "c008a715",
   "metadata": {},
   "outputs": [
    {
     "data": {
      "text/plain": [
       "array([0.11089739, 0.99950288, 0.01729582, ..., 0.32630716, 0.66755384,\n",
       "       0.59371425])"
      ]
     },
     "execution_count": 38,
     "metadata": {},
     "output_type": "execute_result"
    }
   ],
   "source": [
    "numerical = ['longitude', 'latitude', 'housing_median_age', 'total_rooms',\n",
    "       'total_bedrooms', 'population', 'households', 'median_income', 'rooms_per_household',\n",
    "       'bedrooms_per_room', 'population_per_household']"
   ]
  },
  {
   "cell_type": "code",
   "execution_count": null,
   "id": "13606198",
   "metadata": {},
   "outputs": [],
   "source": []
  }
 ],
 "metadata": {
  "kernelspec": {
   "display_name": "Python 3 (ipykernel)",
   "language": "python",
   "name": "python3"
  },
  "language_info": {
   "codemirror_mode": {
    "name": "ipython",
    "version": 3
   },
   "file_extension": ".py",
   "mimetype": "text/x-python",
   "name": "python",
   "nbconvert_exporter": "python",
   "pygments_lexer": "ipython3",
   "version": "3.8.12"
  },
  "toc": {
   "base_numbering": 1,
   "nav_menu": {},
   "number_sections": true,
   "sideBar": true,
   "skip_h1_title": false,
   "title_cell": "Table of Contents",
   "title_sidebar": "Contents",
   "toc_cell": false,
   "toc_position": {},
   "toc_section_display": true,
   "toc_window_display": false
  }
 },
 "nbformat": 4,
 "nbformat_minor": 5
}
