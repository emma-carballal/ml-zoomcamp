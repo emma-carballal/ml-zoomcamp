{
 "cells": [
  {
   "cell_type": "markdown",
   "id": "ba574715",
   "metadata": {},
   "source": [
    "# Homework Week 10"
   ]
  },
  {
   "cell_type": "markdown",
   "id": "c9dd4851",
   "metadata": {},
   "source": [
    "## Question 1"
   ]
  },
  {
   "cell_type": "markdown",
   "id": "f865280e",
   "metadata": {},
   "source": [
    "You should see this:\n",
    "\n",
    "`{'get_card': True, 'get_card_probability': <value>}`\n",
    "\n",
    "Here ``<value>`` is the probability of getting a credit card. You need to choose the right one."
   ]
  },
  {
   "cell_type": "markdown",
   "id": "6006849a",
   "metadata": {},
   "source": [
    "`{'get_card': True, 'get_card_probability': 0.7692649226628628}`"
   ]
  },
  {
   "cell_type": "markdown",
   "id": "bb0ec22a",
   "metadata": {},
   "source": [
    "## Question 2"
   ]
  },
  {
   "cell_type": "markdown",
   "id": "8ed3d072",
   "metadata": {},
   "source": [
    "What's the version of kind that you have?"
   ]
  },
  {
   "cell_type": "markdown",
   "id": "d26a1bb9",
   "metadata": {},
   "source": [
    "`kind version 0.17.0`"
   ]
  },
  {
   "cell_type": "markdown",
   "id": "d393b5d2",
   "metadata": {},
   "source": [
    "## Question 3"
   ]
  },
  {
   "cell_type": "markdown",
   "id": "87b9893a",
   "metadata": {},
   "source": [
    "What's the smallest deployable computing unit that we can create and manage in Kubernetes (kind in our case)?"
   ]
  },
  {
   "cell_type": "markdown",
   "id": "829fc5c3",
   "metadata": {},
   "source": [
    "**A pod**"
   ]
  },
  {
   "cell_type": "markdown",
   "id": "992bc00a",
   "metadata": {},
   "source": [
    "## Question 4"
   ]
  },
  {
   "cell_type": "markdown",
   "id": "4e26532c",
   "metadata": {},
   "source": [
    "What's the Type of the service that is already running there?"
   ]
  },
  {
   "cell_type": "markdown",
   "id": "b6c6dc1d",
   "metadata": {},
   "source": [
    "```\n",
    "NAME         TYPE        CLUSTER-IP   EXTERNAL-IP   PORT(S)   AGE\n",
    "kubernetes   ClusterIP   10.96.0.1    <none>        443/TCP   4m59s\n",
    "```\n",
    "**ClusterIP**"
   ]
  },
  {
   "cell_type": "markdown",
   "id": "99c805c9",
   "metadata": {},
   "source": [
    "## Question 5"
   ]
  },
  {
   "cell_type": "markdown",
   "id": "3f25a532",
   "metadata": {},
   "source": [
    "To be able to use the docker image we previously created (zoomcamp-model:v001), we need to register it with kind.\n",
    "\n",
    "What's the command we need to run for that?"
   ]
  },
  {
   "cell_type": "markdown",
   "id": "ab66be31",
   "metadata": {},
   "source": [
    "```\n",
    "kind load docker-image zoomcamp-model:v001\n",
    "````"
   ]
  },
  {
   "cell_type": "markdown",
   "id": "bbeb3541",
   "metadata": {},
   "source": [
    "## Question 6"
   ]
  },
  {
   "cell_type": "markdown",
   "id": "19d5d664",
   "metadata": {},
   "source": [
    "What is the value for `<Port>`?"
   ]
  },
  {
   "cell_type": "markdown",
   "id": "6fd0407f",
   "metadata": {},
   "source": [
    "`9696`"
   ]
  },
  {
   "cell_type": "markdown",
   "id": "3ca675ab",
   "metadata": {},
   "source": [
    "## Question 7"
   ]
  },
  {
   "cell_type": "markdown",
   "id": "b4a572b1",
   "metadata": {},
   "source": [
    "Fill it in. What do we need to write instead of `Service selector (<???>)`?"
   ]
  },
  {
   "cell_type": "markdown",
   "id": "ab7feffc",
   "metadata": {},
   "source": [
    "`credit-card`"
   ]
  },
  {
   "cell_type": "code",
   "execution_count": null,
   "id": "78add3cc",
   "metadata": {},
   "outputs": [],
   "source": []
  }
 ],
 "metadata": {
  "kernelspec": {
   "display_name": "Python 3 (ipykernel)",
   "language": "python",
   "name": "python3"
  },
  "language_info": {
   "codemirror_mode": {
    "name": "ipython",
    "version": 3
   },
   "file_extension": ".py",
   "mimetype": "text/x-python",
   "name": "python",
   "nbconvert_exporter": "python",
   "pygments_lexer": "ipython3",
   "version": "3.9.13"
  },
  "toc": {
   "base_numbering": 1,
   "nav_menu": {},
   "number_sections": true,
   "sideBar": true,
   "skip_h1_title": false,
   "title_cell": "Table of Contents",
   "title_sidebar": "Contents",
   "toc_cell": false,
   "toc_position": {},
   "toc_section_display": true,
   "toc_window_display": false
  }
 },
 "nbformat": 4,
 "nbformat_minor": 5
}
