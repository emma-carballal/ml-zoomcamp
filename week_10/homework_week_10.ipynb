{
 "cells": [
  {
   "cell_type": "markdown",
   "id": "8b59d2ac",
   "metadata": {},
   "source": [
    "# Homework Week 10"
   ]
  },
  {
   "cell_type": "markdown",
   "id": "2a991da2",
   "metadata": {},
   "source": [
    "## Question 1"
   ]
  },
  {
   "cell_type": "markdown",
   "id": "a36249a2",
   "metadata": {},
   "source": [
    "You should see this:\n",
    "\n",
    "`{'get_card': True, 'get_card_probability': <value>}`\n",
    "\n",
    "Here ``<value>`` is the probability of getting a credit card. You need to choose the right one."
   ]
  },
  {
   "cell_type": "markdown",
   "id": "c6a35184",
   "metadata": {},
   "source": [
    "`{'get_card': True, 'get_card_probability': 0.7692649226628628}`"
   ]
  },
  {
   "cell_type": "markdown",
   "id": "37d08cd7",
   "metadata": {},
   "source": [
    "## Question 2"
   ]
  },
  {
   "cell_type": "markdown",
   "id": "71e61cd2",
   "metadata": {},
   "source": [
    "What's the version of kind that you have?"
   ]
  },
  {
   "cell_type": "markdown",
   "id": "ad77cbd9",
   "metadata": {},
   "source": [
    "`kind version 0.17.0`"
   ]
  },
  {
   "cell_type": "markdown",
   "id": "815435f1",
   "metadata": {},
   "source": [
    "## Question 3"
   ]
  },
  {
   "cell_type": "markdown",
   "id": "4e0cd9be",
   "metadata": {},
   "source": [
    "What's the smallest deployable computing unit that we can create and manage in Kubernetes (kind in our case)?"
   ]
  },
  {
   "cell_type": "markdown",
   "id": "8ca7d6b1",
   "metadata": {},
   "source": [
    "**A pod**"
   ]
  },
  {
   "cell_type": "markdown",
   "id": "b4adaf99",
   "metadata": {},
   "source": [
    "## Question 4"
   ]
  },
  {
   "cell_type": "markdown",
   "id": "0f2f6194",
   "metadata": {},
   "source": [
    "What's the Type of the service that is already running there?"
   ]
  },
  {
   "cell_type": "markdown",
   "id": "4db80eae",
   "metadata": {},
   "source": [
    "```\n",
    "NAME         TYPE        CLUSTER-IP   EXTERNAL-IP   PORT(S)   AGE\n",
    "kubernetes   ClusterIP   10.96.0.1    <none>        443/TCP   4m59s\n",
    "```\n",
    "**ClusterIP**"
   ]
  },
  {
   "cell_type": "markdown",
   "id": "0359b071",
   "metadata": {},
   "source": [
    "## Question 5"
   ]
  },
  {
   "cell_type": "markdown",
   "id": "e1ea04e3",
   "metadata": {},
   "source": [
    "To be able to use the docker image we previously created (zoomcamp-model:v001), we need to register it with kind.\n",
    "\n",
    "What's the command we need to run for that?"
   ]
  },
  {
   "cell_type": "markdown",
   "id": "4da86c89",
   "metadata": {},
   "source": [
    "```\n",
    "kind load docker-image zoomcamp-model:v001\n",
    "````"
   ]
  },
  {
   "cell_type": "code",
   "execution_count": null,
   "id": "1f769b26",
   "metadata": {},
   "outputs": [],
   "source": []
  }
 ],
 "metadata": {
  "kernelspec": {
   "display_name": "Python 3 (ipykernel)",
   "language": "python",
   "name": "python3"
  },
  "language_info": {
   "codemirror_mode": {
    "name": "ipython",
    "version": 3
   },
   "file_extension": ".py",
   "mimetype": "text/x-python",
   "name": "python",
   "nbconvert_exporter": "python",
   "pygments_lexer": "ipython3",
   "version": "3.9.13"
  },
  "toc": {
   "base_numbering": 1,
   "nav_menu": {},
   "number_sections": true,
   "sideBar": true,
   "skip_h1_title": false,
   "title_cell": "Table of Contents",
   "title_sidebar": "Contents",
   "toc_cell": false,
   "toc_position": {},
   "toc_section_display": true,
   "toc_window_display": false
  }
 },
 "nbformat": 4,
 "nbformat_minor": 5
}
